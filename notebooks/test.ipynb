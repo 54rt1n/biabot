{
 "cells": [
  {
   "cell_type": "code",
   "execution_count": null,
   "metadata": {},
   "outputs": [],
   "source": [
    "from biabot.models.conversation import ConversationModel\n",
    "from biabot.config import ChatConfig\n",
    "\n",
    "config = ChatConfig.from_env()\n",
    "\n",
    "cvm = ConversationModel.from_uri(embedding_model=config.embedding_model, lancedb_uri=config.lancedb_uri, device=config.device)"
   ]
  },
  {
   "cell_type": "code",
   "execution_count": null,
   "metadata": {},
   "outputs": [],
   "source": [
    "cvm.get_conversation_report()"
   ]
  },
  {
   "cell_type": "code",
   "execution_count": null,
   "metadata": {},
   "outputs": [],
   "source": [
    "break"
   ]
  },
  {
   "cell_type": "code",
   "execution_count": null,
   "metadata": {},
   "outputs": [],
   "source": [
    "queries = [\n",
    "    'Good morning. Lets build a knowledge graph today.',\n",
    "    'Lets build one for GraVoc.',\n",
    "    \"What about Business Central? Is that NER?\",\n",
    "    \"We also need Knowledge Graphs\"\n",
    "    ][::-1]\n",
    "results = cvm.query(query_texts=queries)\n",
    "results.sort_values(by='score', ascending=False)"
   ]
  },
  {
   "cell_type": "code",
   "execution_count": null,
   "metadata": {},
   "outputs": [],
   "source": [
    "cr = cvm.collection.search().where(\"document_type = 'analysis'\").limit(1000).to_pandas()\n",
    "max_sequence_no = cr.groupby(['conversation_id', 'document_type', 'branch'])['sequence_no'].max().reset_index()\n",
    "# We need to update the document type for these documents to 'step'\n",
    "import pandas as pd\n",
    "df = pd.merge(cr, max_sequence_no, on=['conversation_id', 'document_type', 'branch'], how='inner', suffixes=('', '_max'))\n",
    "docs_df = df[df['sequence_no'] != df['sequence_no_max']]\n",
    "for i, row in docs_df.iterrows():\n",
    "    #document_id = row['doc_id']\n",
    "    #cvm.collection.update(f\"doc_id = '{document_id}'\", {\"document_type\": \"step\"})\n",
    "    pass"
   ]
  },
  {
   "cell_type": "code",
   "execution_count": null,
   "metadata": {},
   "outputs": [],
   "source": [
    "cvm.collection.search().where(\"conversation_id = 'gravoc-fourth'\").limit(1000).to_pandas().sort_values(by=['document_type', 'sequence_no'])"
   ]
  },
  {
   "cell_type": "code",
   "execution_count": null,
   "metadata": {},
   "outputs": [],
   "source": []
  }
 ],
 "metadata": {
  "kernelspec": {
   "display_name": "classenv",
   "language": "python",
   "name": "python3"
  },
  "language_info": {
   "codemirror_mode": {
    "name": "ipython",
    "version": 3
   },
   "file_extension": ".py",
   "mimetype": "text/x-python",
   "name": "python",
   "nbconvert_exporter": "python",
   "pygments_lexer": "ipython3",
   "version": "3.10.12"
  }
 },
 "nbformat": 4,
 "nbformat_minor": 2
}
